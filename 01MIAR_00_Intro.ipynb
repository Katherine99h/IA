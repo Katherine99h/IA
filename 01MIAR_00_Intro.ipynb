{
 "cells": [
  {
   "cell_type": "markdown",
   "metadata": {
    "slideshow": {
     "slide_type": "slide"
    }
   },
   "source": [
    "<img src=\"img/viu_logo.png\" width=\"200\">\n",
    "\n",
    "## 01MIAR - Python para Inteligencia Artificial\n",
    "### Presentación de la asignatura\n",
    "\n",
    "![logo](img/python_logo.png)\n",
    "\n",
    "*Ivan Fuertes*"
   ]
  },
  {
   "cell_type": "markdown",
   "metadata": {},
   "source": [
    "## Presentación\n",
    "\n",
    "Iván Fuertes - ivan.fuertes@campusviu.es\n",
    "\n",
    "HND in VideoGames Programming\n",
    "\n",
    "- Game Engine Programmer\n",
    "  - Computer Graphics, Rendering\n",
    "  - Low Level Engine Systems\n",
    "  - VideoGames\n",
    "  - C++, Python\n",
    "  \n",
    "- History\n",
    "  - Spectrum + Amiga Demo Scene\n",
    "  - Apps Management\n",
    "  - MiniRacingOnline\n",
    "  - Educativos\n",
    "  - Experiencias Virtual Reality\n",
    "  - Casinos Online\n",
    "  - Game Engine + Games Augmented Reality (FaceTracking + SLAM)\n",
    "  - Indie Scene\n",
    "  - Electronic Warfare\n",
    "  - Wikitude - Augmented Reality Rendering Engine\n",
    "  \n",
    "- Currently\n",
    "  - 2K Games - 31st Union - Lead Core Engine Engineer AAA Games\n",
    "\n",
    "- VIU\n",
    "  - Master en Desarrollo de Videojuegos\n",
    "    - Programación Gráfica y Arquitectura de Motores de Videojuegos\n",
    "    - Programación Mulithilo, Multiplayer Online e Inteligencia Artificial para Videojuegos\n",
    "  - Grado de Ingeniería Informática\n",
    "    - Programación de Videojuegos\n",
    "    - Programación Gráfica\n",
    "  - Master Universitario en Inteligencia Artificial\n",
    "    - Programación en Python para Ciencia de Datos e Inteligencia Artificial\n",
    "  - Coordinador del Curso de Experto Programación en Python\n",
    "    - Programación Avanzada"
   ]
  },
  {
   "cell_type": "markdown",
   "metadata": {
    "slideshow": {
     "slide_type": "subslide"
    }
   },
   "source": [
    "## Objetivos\n",
    "- Diseñar e implementar programas básicos en Python\n",
    "- Conocer cómo desarrollar scripts y Jupyter Notebook\n",
    "- Saber importar y configurar módulos externos comunes en un entorno propio\n",
    "- Familiarización con modulos para análisis de datos (NumPy, pandas, matplotlib)\n",
    "- Conocer las técnicas básicas de análisis de datos\n"
   ]
  },
  {
   "cell_type": "markdown",
   "metadata": {},
   "source": [
    "## Metodología\n",
    "\n",
    "- Clase Expositiva\n",
    "- Actividad en Grupo\n",
    "- Problemas\n",
    "- Foros\n",
    "- Trabajo Autónomo"
   ]
  },
  {
   "cell_type": "markdown",
   "metadata": {},
   "source": [
    "## Sesiones\n",
    "\n",
    "### Horario 18.00 a 20.00 CEST\n",
    "\n",
    "- 20-04-23 - Tutoria Colectiva Presentación\n",
    "- 26-04-23 - VideoConferencia 00\n",
    "- 28-04-23 - VideoConferencia 01\n",
    "- 03-05-23 - VideoConferencia 02\n",
    "- 04-05-23 - VideoConferencia 03\n",
    "- 08-05-23 - VideoConferencia 04\n",
    "- 10-05-23 - VideoConferencia 05\n",
    "- 15-05-23 - VideoConferencia 06\n",
    "- 17-05-23 - VideoConferencia 07\n",
    "- 18-05-23 - VideoConferencia 08\n",
    "- 22-05-23 - VideoConferencia 09\n",
    "- 24-05-23 - VideoConfernecia 10"
   ]
  },
  {
   "cell_type": "markdown",
   "metadata": {
    "slideshow": {
     "slide_type": "slide"
    }
   },
   "source": [
    "## Recursos de la asignatura\n",
    "- En el aula virtual\n",
    " - Manual de la asignatura en el aula virtual\n",
    " - Jupyter notebooks de las clases\n",
    " - Actividades (descripción y entregas)\n",
    " \n",
    "* Google Drive - https://drive.google.com/drive/folders/1189DvRBwDOfE2CdRUbEb3afHf1R0rybK\n",
    "\n",
    "* GitHub (send user) - https://github.com/vany-viu/01MIAR_ABR_23"
   ]
  },
  {
   "cell_type": "markdown",
   "metadata": {
    "slideshow": {
     "slide_type": "fragment"
    }
   },
   "source": [
    "- Documentación oficial \n",
    " - Python: https://docs.python.org/3/\n",
    " - NumPy: https://docs.scipy.org/doc/\n",
    " - pandas: https://pandas.pydata.org/index.html\n",
    " - matplotlib: https://matplotlib.org/"
   ]
  },
  {
   "cell_type": "markdown",
   "metadata": {},
   "source": [
    "## Actividades y Entregas\n",
    "\n",
    "### Portfolio (Evaluación Continua) - 60%\n",
    "- Actividad - Análisis y Representación de Datos en un Dataset - 30%\n",
    "- Actividad - Sobre videos - 10%\n",
    "- Actividad - Sobre paper - 10%\n",
    "- Foros - Participación en Foros Evaluables - 10%\n",
    "\n",
    "### Examen - 40%\n",
    "\n",
    "### Primera convocatoria - 02/06/23\n",
    "\n",
    "### Segunda convocatoria - 08/09/23\n",
    "- No hay foros en segunda convocatoria\n",
    "\n",
    "### Entrega de notebooks a través de las actividades del campus virtual"
   ]
  },
  {
   "cell_type": "markdown",
   "metadata": {
    "slideshow": {
     "slide_type": "slide"
    }
   },
   "source": [
    "## Foros\n",
    "### Introducción\n",
    "- Generar Ideas Nuevas y Llegar a Nuevos Conocimientos\n",
    "- Sentido Crítico y Concluir con Medidas, Soluciones o Nuevos Enfoques\n",
    "- Aportación de o Desarrollo de Temas Relacionando Inteligencia Artificial y el Uso de Herramientas de Programación, en concreto Python\n",
    "- Aportaciones de Referencias\n",
    " \n",
    "## Evaluación\n",
    "- 10% de la Nota Final\n",
    "- Sólo se Podrá Participar en Primera Convocatoria (02/06/23)\n",
    "- Mínimo para Obtener una Nota Será de Dos Participaciones"
   ]
  },
  {
   "cell_type": "markdown",
   "metadata": {
    "slideshow": {
     "slide_type": "subslide"
    }
   },
   "source": [
    "## Instalación local\n",
    "- Guía de instalación (para Windows, Linux y macOS): https://realpython.com/installing-python/\n",
    "- [Python 3.9.x](https://www.python.org/downloads/) [3.7, 3.9]\n",
    "   - [3.9.13](https://www.python.org/downloads/release/python-3913/)\n",
    "   - Instalación a través del fichero instalable. Sección \"How to Install From the Full Installer\" en la guía (Windows).\n",
    "   - No olvidéis marcar el checkbox con la opción de añadir Python a la variable de entorno PATH.\n",
    "- Recomendado: instalacion via _Anaconda_\n",
    "  - Incluye módulos para el curso (__NumPy__, __pandas__, __matplotlib__, __jupyter notebook__...)\n",
    "- http://docs.anaconda.com/anaconda/install/\n",
    "- https://docs.anaconda.com/anaconda/user-guide/getting-started\n",
    "- Jupyter Notebook / Jupyter Lab\n",
    "   - [Jupyter-lab](https://jupyter.org/install)\n",
    "   - Instalación: *pip install jupyterlab*\n",
    "   - Abrir aplicación con navegador: *jupyter lab*\n",
    "- Ejecución del interprete\n",
    " - MacOS / Linux / Windows, en la terminal: __python__, __ipython__\n",
    "- Google Colab\n",
    "- Otros IDE, VSCode, PyCharm,..."
   ]
  },
  {
   "cell_type": "markdown",
   "metadata": {
    "slideshow": {
     "slide_type": "slide"
    }
   },
   "source": [
    "## Uso de Jupyter Lab / Jupyter Notebook\n",
    "- Permite intercalar el código con las explicaciones necesarias.\n",
    "- Presentaciones, ejercicios, actividades... __todo__ notebooks\n",
    "- Markdown/HTML + codigo en vivo\n",
    "- Markdown = https://www.markdownguide.org/\n",
    "- Facilita la colaboración y la presentación interactiva de código\n",
    "- En la terminal: __jupyter lab__ o __jupyter notebook__\n",
    "- Archivos _.ipynb_\n",
    "- Documentación https://jupyter.readthedocs.io/en/latest/"
   ]
  },
  {
   "cell_type": "markdown",
   "metadata": {
    "slideshow": {
     "slide_type": "subslide"
    }
   },
   "source": [
    "## Contenidos\n",
    "\n",
    "#### Introducción a la sintaxis de Python 3"
   ]
  },
  {
   "cell_type": "code",
   "execution_count": null,
   "metadata": {},
   "outputs": [],
   "source": [
    "# Hello world!!\n",
    "a = 5\n",
    "print(f\"el valor {a} para la variable\")"
   ]
  },
  {
   "cell_type": "code",
   "execution_count": null,
   "metadata": {
    "slideshow": {
     "slide_type": "fragment"
    }
   },
   "outputs": [],
   "source": [
    "# funcion para sumar dos elementos\n",
    "def suma(a,b):\n",
    "    return a+b\n",
    "\n",
    "lista = [1,2,3]\n",
    "\n",
    "for i,value in enumerate(lista):\n",
    "    lista[i] = suma(value,10)\n",
    "    \n",
    "print(lista)"
   ]
  },
  {
   "cell_type": "markdown",
   "metadata": {
    "slideshow": {
     "slide_type": "fragment"
    }
   },
   "source": [
    "#### Colecciones\n",
    "\n",
    "#### Uso de librerías fundamentales\n",
    "- NumPy"
   ]
  },
  {
   "cell_type": "code",
   "execution_count": null,
   "metadata": {
    "slideshow": {
     "slide_type": "fragment"
    }
   },
   "outputs": [],
   "source": [
    "import numpy as np\n",
    "\n",
    "random_list = np.random.randint(200,size=(10,2))\n",
    "random_list"
   ]
  },
  {
   "cell_type": "markdown",
   "metadata": {
    "slideshow": {
     "slide_type": "subslide"
    }
   },
   "source": [
    "- pandas"
   ]
  },
  {
   "cell_type": "code",
   "execution_count": null,
   "metadata": {
    "slideshow": {
     "slide_type": "fragment"
    }
   },
   "outputs": [],
   "source": [
    "import pandas as pd\n",
    "\n",
    "frame = pd.DataFrame(random_list)\n",
    "frame"
   ]
  },
  {
   "cell_type": "markdown",
   "metadata": {
    "slideshow": {
     "slide_type": "fragment"
    }
   },
   "source": [
    "- matplotlib & seaborn"
   ]
  },
  {
   "cell_type": "code",
   "execution_count": null,
   "metadata": {
    "slideshow": {
     "slide_type": "fragment"
    }
   },
   "outputs": [],
   "source": [
    "%matplotlib inline\n",
    "import matplotlib.pyplot as plt\n",
    "frame.plot()\n",
    "plt.show()"
   ]
  },
  {
   "cell_type": "markdown",
   "metadata": {
    "slideshow": {
     "slide_type": "subslide"
    }
   },
   "source": [
    "#### Introducción a análisis de datos en Python\n",
    "- Trabajar con strings\n",
    "- Limpieza de datos\n",
    "- Escritura y lectura de datos"
   ]
  },
  {
   "cell_type": "markdown",
   "metadata": {
    "slideshow": {
     "slide_type": "subslide"
    }
   },
   "source": [
    "### Homework Jupyter notebook\n",
    "- Entorno Anaconda + Python + Jupyter Notebook instalado\n",
    "- Creación de notebooks\n",
    "- Creación de tipos de celdas\n",
    " - Markdown para texto e imágenes\n",
    " - Code para código"
   ]
  },
  {
   "cell_type": "markdown",
   "metadata": {
    "slideshow": {
     "slide_type": "slide"
    },
    "tags": []
   },
   "source": [
    "## Gracias"
   ]
  }
 ],
 "metadata": {
  "celltoolbar": "Slideshow",
  "kernelspec": {
   "display_name": "Python 3 (ipykernel)",
   "language": "python",
   "name": "python3"
  },
  "language_info": {
   "codemirror_mode": {
    "name": "ipython",
    "version": 3
   },
   "file_extension": ".py",
   "mimetype": "text/x-python",
   "name": "python",
   "nbconvert_exporter": "python",
   "pygments_lexer": "ipython3",
   "version": "3.10.9"
  },
  "metadata": {
   "interpreter": {
    "hash": "f35a06f707b9576dd6b3ef079e74b1f578cbc33a28427aac1052a70586e6d412"
   }
  }
 },
 "nbformat": 4,
 "nbformat_minor": 4
}
